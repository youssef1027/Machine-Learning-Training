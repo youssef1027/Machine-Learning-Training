{
  "nbformat": 4,
  "nbformat_minor": 0,
  "metadata": {
    "colab": {
      "name": "Copy of mini_Projects_4.ipynb",
      "provenance": [],
      "collapsed_sections": [],
      "include_colab_link": true
    },
    "kernelspec": {
      "name": "python3",
      "display_name": "Python 3"
    },
    "language_info": {
      "name": "python"
    }
  },
  "cells": [
    {
      "cell_type": "markdown",
      "metadata": {
        "id": "view-in-github",
        "colab_type": "text"
      },
      "source": [
        "<a href=\"https://colab.research.google.com/github/youssef1027/Machine-Learning-Training/blob/main/Assignment%204.ipynb\" target=\"_parent\"><img src=\"https://colab.research.google.com/assets/colab-badge.svg\" alt=\"Open In Colab\"/></a>"
      ]
    },
    {
      "cell_type": "markdown",
      "metadata": {
        "id": "PzKyFrcWnYp-"
      },
      "source": [
        "# Classes and Object-Oriented Programming"
      ]
    },
    {
      "cell_type": "markdown",
      "metadata": {
        "id": "PvIcgxeanf9s"
      },
      "source": [
        "### 1. Car Class\n",
        "Write a class named Car that has the following data attributes: <br>\n",
        "*\t _ _ year_model (for the car’s year model)<br>\n",
        "*\t _ _ make (for the make of the car)<br>\n",
        "*\t _ _ speed (for the car’s current speed)<br>\n",
        "\n",
        "The Car class should have an _ _ init _ _ method that accepts the car’s year model and make\n",
        "as arguments. These values should be assigned to the object’s _ _ year_model and _ _make\n",
        "data attributes. It should also assign 0 to the _ _speed data attribute.\n",
        "The class should also have the following methods:<br>\n",
        "*\t accelerate<br>\n",
        "The accelerate method should add 5 to the speed data attribute each time it is called.<br>\n",
        "*\t brake<br>\n",
        "The brake method should subtract 5 from the speed data attribute each time it is called.<br>\n",
        "*\t get_speed<br>\n",
        "The get_speed method should return the current speed.<br>\n",
        "Next, design a program that creates a Car object and then calls the accelerate method\n",
        "five times. After each call to the accelerate method, get the current speed of the car and\n",
        "display it. Then call the brake method five times. After each call to the brake method, get\n",
        "the current speed of the car and display it."
      ]
    },
    {
      "cell_type": "code",
      "metadata": {
        "id": "Kr6E0rjNnfnb"
      },
      "source": [
        "class Car:\n",
        "\n",
        "    def __init__(self, year_model, make):\n",
        "        self.year_model = year_model\n",
        "        self.make = make\n",
        "        self.speed = 0\n",
        "\n",
        "    def accelerate(self):\n",
        "        self.speed += 5\n",
        "\n",
        "    def brake(self):\n",
        "        if self.speed >= 5:\n",
        "            self.speed -= 5\n",
        "        else:\n",
        "            self.speed = 0\n",
        "\n",
        "    def get_speed(self):\n",
        "        return self.speed"
      ],
      "execution_count": null,
      "outputs": []
    },
    {
      "cell_type": "code",
      "metadata": {
        "id": "l8Y56HoYnQJ5",
        "colab": {
          "base_uri": "https://localhost:8080/"
        },
        "outputId": "d41f53b5-53b4-4468-f687-ff8f30fe6096"
      },
      "source": [
        "my_car = Car(2020, \"Mercedes-Benz\")\n",
        "\n",
        "print(\"Start Accelerating\")\n",
        "\n",
        "my_car.accelerate()\n",
        "print(\"The current speed of the car:\", my_car.get_speed())\n",
        "my_car.accelerate()\n",
        "print(\"The current speed of the car:\", my_car.get_speed())\n",
        "my_car.accelerate()\n",
        "print(\"The current speed of the car:\", my_car.get_speed())\n",
        "my_car.accelerate()\n",
        "print(\"The current speed of the car:\", my_car.get_speed())\n",
        "my_car.accelerate()\n",
        "print(\"The current speed of the car:\", my_car.get_speed())\n",
        "\n",
        "print(\"Start Braking\")\n",
        "\n",
        "my_car.brake()\n",
        "print(\"The current speed of the car:\", my_car.get_speed())\n",
        "my_car.brake()\n",
        "print(\"The current speed of the car:\", my_car.get_speed())\n",
        "my_car.brake()\n",
        "print(\"The current speed of the car:\", my_car.get_speed())\n",
        "my_car.brake()\n",
        "print(\"The current speed of the car:\", my_car.get_speed())\n",
        "my_car.brake()\n",
        "print(\"The current speed of the car:\", my_car.get_speed())"
      ],
      "execution_count": null,
      "outputs": [
        {
          "output_type": "stream",
          "text": [
            "Start Accelerating\n",
            "The current speed of the car: 5\n",
            "The current speed of the car: 10\n",
            "The current speed of the car: 15\n",
            "The current speed of the car: 20\n",
            "The current speed of the car: 25\n",
            "Start Braking\n",
            "The current speed of the car: 20\n",
            "The current speed of the car: 15\n",
            "The current speed of the car: 10\n",
            "The current speed of the car: 5\n",
            "The current speed of the car: 0\n"
          ],
          "name": "stdout"
        }
      ]
    },
    {
      "cell_type": "markdown",
      "metadata": {
        "id": "nLajN23EoGgN"
      },
      "source": [
        "### 2. Personal Information Class\n",
        "Design a class that holds the following personal data: name, address, age, and phone number. Write appropriate accessor and mutator methods. Also, write a program that creates\n",
        "three instances of the class. One instance should hold your information, and the other two\n",
        "should hold your friends’ or family members’ information.\n"
      ]
    },
    {
      "cell_type": "code",
      "metadata": {
        "id": "tcSdS_0VoLkI"
      },
      "source": [
        "class Person:\n",
        "\n",
        "    def __init__(self, name, address, age, phone_number):\n",
        "        self.name = name\n",
        "        self.address = address\n",
        "        self.age = age\n",
        "        self.phone_number = phone_number\n",
        "\n",
        "    def setName(self, name):\n",
        "        self.name = name\n",
        "\n",
        "    def getName(self):\n",
        "        return self.name\n",
        "\n",
        "    def setAddress(self, address):\n",
        "        self.address = address\n",
        "\n",
        "    def getAddress(self):\n",
        "        return self.address\n",
        "\n",
        "    def setAge(self, age):\n",
        "        self.age = age\n",
        "\n",
        "    def getAge(self):\n",
        "        return self.age\n",
        "\n",
        "    def setPhoneNumber(self, phone_number):\n",
        "        self.phone_number = phone_number\n",
        "\n",
        "    def getPhoneNumber(self):\n",
        "        return self.phone_number"
      ],
      "execution_count": 9,
      "outputs": []
    },
    {
      "cell_type": "code",
      "metadata": {
        "id": "-eBkbWYMfjAY"
      },
      "source": [
        "me = Person(\"Youssef Ahmed\", \"Rehab\", 29, \"01236775726\")\n",
        "my_friend1 = Person(\"Mohamed\", \"cairo\", 36, \"01003127779\")\n",
        "my_friend2 = Person(\"Mostafa\", \"Nasr City\", 25, \"01087666789\")"
      ],
      "execution_count": 11,
      "outputs": []
    },
    {
      "cell_type": "markdown",
      "metadata": {
        "id": "po1ZEl0loMQh"
      },
      "source": [
        "### 3. Employee Class\n",
        "Write a class named Employee that holds the following data about an employee in attributes: name, ID number, department, and job title. <br>\n",
        "Once you have written the class, write a program that creates three Employee objects to\n",
        "hold the following data:<br>\n",
        "\n",
        "<center> <img src=\"data:image/png;base64,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\" width=\"550\"></center>\n",
        "The program should store this data in the three objects and then display the data for each\n",
        "employee on the screen."
      ]
    },
    {
      "cell_type": "code",
      "metadata": {
        "id": "_tJ478E3ozjn"
      },
      "source": [
        "class Employee:\n",
        "    \n",
        "    def __init__(self, name, id_number, department, job_title):\n",
        "        self.name = name\n",
        "        self.id_number = id_number\n",
        "        self.department = department\n",
        "        self.job_title = job_title\n",
        "\n",
        "    def setName(self, name):\n",
        "        self.name = name\n",
        "\n",
        "    def getName(self):\n",
        "        return self.name\n",
        "\n",
        "    def setIdNumber(self, id_number):\n",
        "        self.id_number = id_number\n",
        "\n",
        "    def getIdNumber(self):\n",
        "        return self.id_number\n",
        "\n",
        "    def setDepartment(self, department):\n",
        "        self.department = department\n",
        "\n",
        "    def getDepartment(self):\n",
        "        return self.department\n",
        "\n",
        "    def setJobTitle(self, job_title):\n",
        "        self.job_title = job_title\n",
        "\n",
        "    def getJobTitle(self):\n",
        "        return self.job_title\n",
        "\n",
        "    def toString(self):\n",
        "        return \"Employee Name: \" + self.getName() + \", ID Number: \" + str(self.getIdNumber()) + \", Department: \" + \\\n",
        "               self.getDepartment() + \", JobTitle: \" + self.getJobTitle()\n"
      ],
      "execution_count": null,
      "outputs": []
    },
    {
      "cell_type": "code",
      "metadata": {
        "id": "ZN2gf9gzo6su",
        "colab": {
          "base_uri": "https://localhost:8080/"
        },
        "outputId": "6e91447a-d691-4603-f913-563786106ad8"
      },
      "source": [
        "susan = Employee(\"Susan Meyers\", 47899, \"Accounting\", \"Vice President\")\n",
        "print(susan.toString())\n",
        "mark = Employee(\"Mark Jones\", 39119, \"IT\", \"Programmer\")\n",
        "print(mark.toString())\n",
        "joy = Employee(\"Joy Rogers\", 81774, \"Manufacturing\", \"Engineer\")\n",
        "print(joy.toString())"
      ],
      "execution_count": null,
      "outputs": [
        {
          "output_type": "stream",
          "text": [
            "Employee Name: Susan Meyers, ID Number: 47899, Department: Accounting, JobTitle: Vice President\n",
            "Employee Name: Mark Jones, ID Number: 39119, Department: IT, JobTitle: Programmer\n",
            "Employee Name: Joy Rogers, ID Number: 81774, Department: Manufacturing, JobTitle: Engineer\n"
          ],
          "name": "stdout"
        }
      ]
    },
    {
      "cell_type": "markdown",
      "metadata": {
        "id": "Xunq7QmSo62L"
      },
      "source": [
        "### 4. Employee Management System\n",
        "This exercise assumes that you have created the Employee class for Programming Exercise 3.\n",
        "Create a program that stores Employee objects in a dictionary. Use the employee ID number\n",
        "as the key. The program should present a menu that lets the user perform the following\n",
        "actions:<br>\n",
        "*\t Look up an employee in the dictionary<br>\n",
        "*\t Add a new employee to the dictionary<br>\n",
        "*\t Change an existing employee’s name, department, and job title in the dictionary<br>\n",
        "*\t Delete an employee from the dictionary<br>\n",
        "*\t Quit the program<br>\n",
        "\n",
        "When the program ends, it should pickle the dictionary and save it to a file. Each time the\n",
        "program starts, it should try to load the pickled dictionary from the file. If the file does not\n",
        "exist, the program should start with an empty dictionary"
      ]
    },
    {
      "cell_type": "code",
      "metadata": {
        "id": "C22nSA-HpRTA"
      },
      "source": [
        "import pickle\n",
        "try:\n",
        "    with open('EmployeeDictionaryPickle.txt', 'rb') as file:\n",
        "        employee_dictionary = pickle.load(file)\n",
        "\n",
        "except FileNotFoundError:\n",
        "    employee_dictionary = {}\n",
        "\n",
        "\n",
        "def addEmployee(name, id_number, department, job_title):\n",
        "    employee_dictionary[id_number] = Employee(name, id_number, department, job_title)\n",
        "\n",
        "\n",
        "def lookupEmployee(id_number):\n",
        "    return employee_dictionary[id_number].toString()\n",
        "\n",
        "\n",
        "def changeEmployeeData(id_number, data_to_change, new_data):\n",
        "    if data_to_change == \"name\":\n",
        "        employee_dictionary[id_number].setName(new_data)\n",
        "    elif data_to_change == \"department\":\n",
        "        employee_dictionary[id_number].setDepartment(new_data)\n",
        "    elif data_to_change == \"job_title\":\n",
        "        employee_dictionary[id_number].setJobTitle(new_data)\n",
        "    else:\n",
        "        raise Exception(\"Sorry, You Enter wrong data\")\n",
        "\n",
        "\n",
        "def deleteEmployee(id_number):\n",
        "    employee_dictionary.pop(id_number)\n",
        "\n",
        "\n",
        "def quitProgram():\n",
        "    with open('EmployeeDictionaryPickle.txt', 'ab') as file:\n",
        "        pickle.dump(employee_dictionary, file)"
      ],
      "execution_count": null,
      "outputs": []
    },
    {
      "cell_type": "code",
      "metadata": {
        "id": "VNE55Qb4pYIH",
        "colab": {
          "base_uri": "https://localhost:8080/"
        },
        "outputId": "9e362ab9-34df-47c6-ee25-3d010ecdb987"
      },
      "source": [
        "while True:\n",
        "\n",
        "    print(\"Please Enter the number of action you want to perform:\", \"1 - Add a new employee to the dictionary\",\n",
        "          \"2 - Look up an employee in the dictionary\",\n",
        "          \"3 - Change an existing employee’s name, department, and job title in the dictionary\",\n",
        "          \"4 - Delete an employee from the dictionary\", \"5 - Quit the program\", sep=\"\\n\")\n",
        "    \n",
        "    action = input(\"action number: \")\n",
        "    \n",
        "    if action == '1':\n",
        "        name = input(\"Enter Employee Name:\")\n",
        "        id_number = input(\"Enter Employee Id:\")\n",
        "        department = input(\"Enter Employee Department:\")\n",
        "        job_title = input(\"Enter Employee Job Title:\")\n",
        "        addEmployee(name, id_number, department, job_title)\n",
        "\n",
        "    elif action == '2':\n",
        "        id_number = input(\"Enter Employee Id to Lookup:\")\n",
        "        try:\n",
        "            print(lookupEmployee(id_number))\n",
        "        except KeyError:\n",
        "            print(\"Invalid Id Number\")\n",
        "\n",
        "    elif action == '3':\n",
        "        id_number = input(\"Enter Employee Id:\")\n",
        "        data_to_change = input(\"Enter 'name' to change name or 'department' to change department or\"\n",
        "                               \" 'job_title' to change job title: \")\n",
        "        new_data = input(\"The new data: \")\n",
        "        changeEmployeeData(id_number, data_to_change, new_data)\n",
        "\n",
        "    elif action == '4':\n",
        "        id_number = input(\"Enter Employee Id to delete:\")\n",
        "        deleteEmployee(id_number)\n",
        "\n",
        "    elif action == '5':\n",
        "        quitProgram()\n",
        "        break\n",
        "\n",
        "    else:\n",
        "        print(\"Invalid Action Number\")"
      ],
      "execution_count": null,
      "outputs": [
        {
          "output_type": "stream",
          "text": [
            "Please Enter the number of action you want to perform:\n",
            "1 - Add a new employee to the dictionary\n",
            "2 - Look up an employee in the dictionary\n",
            "3 - Change an existing employee’s name, department, and job title in the dictionary\n",
            "4 - Delete an employee from the dictionary\n",
            "5 - Quit the program\n",
            "action number: 1\n",
            "Enter Employee Name:youssef\n",
            "Enter Employee Id:2020\n",
            "Enter Employee Department:comm\n",
            "Enter Employee Job Title:eng\n",
            "Please Enter the number of action you want to perform:\n",
            "1 - Add a new employee to the dictionary\n",
            "2 - Look up an employee in the dictionary\n",
            "3 - Change an existing employee’s name, department, and job title in the dictionary\n",
            "4 - Delete an employee from the dictionary\n",
            "5 - Quit the program\n",
            "action number: 5\n"
          ],
          "name": "stdout"
        }
      ]
    },
    {
      "cell_type": "markdown",
      "metadata": {
        "id": "WIdw1pLppYPa"
      },
      "source": [
        "# Inheritance\n",
        "\n"
      ]
    },
    {
      "cell_type": "markdown",
      "metadata": {
        "id": "_NhRPlCSpnhY"
      },
      "source": [
        "### 5. Employee and ProductionWorker Classes\n",
        "Write an Employee class that keeps data attributes for the following pieces of information:<br>\n",
        "*\t Employee name\n",
        "*\t Employee number\n",
        "\n",
        "Next, write a class named ProductionWorker that is a subclass of the Employee class. The\n",
        "ProductionWorker class should keep data attributes for the following information:\n",
        "\n",
        "*\t Shift number (an integer, such as 1, 2, or 3)\n",
        "*\t Hourly pay rate\n",
        "\n",
        "The workday is divided into two shifts: day and night. The shift attribute will hold an\n",
        "integer value representing the shift that the employee works. The day shift is shift 1 and the\n",
        "night shift is shift 2. Write the appropriate accessor and mutator methods for each class.\n",
        "Once you have written the classes, write a program that creates an object of the\n",
        "ProductionWorker class and prompts the user to enter data for each of the object’s data\n",
        "attributes. Store the data in the object and then use the object’s accessor methods to retrieve\n",
        "it and display it on the screen."
      ]
    },
    {
      "cell_type": "code",
      "metadata": {
        "id": "14hqgHO5pmxw"
      },
      "source": [
        "class Employee:\n",
        "\n",
        "    def __init__(self, name, employee_number):\n",
        "        self.name = name\n",
        "        self.employee_number = employee_number\n",
        "\n",
        "    def setName(self, name):\n",
        "        self.name = name\n",
        "\n",
        "    def getName(self):\n",
        "        return self.name\n",
        "\n",
        "    def setEmployeeNumber(self, employee_number):\n",
        "        self.employee_number = employee_number\n",
        "\n",
        "    def getEmployeeNumber(self):\n",
        "        return self.employee_number\n",
        "\n",
        "    def toString(self):\n",
        "        return \"Employee Name: \" + self.getName() + \", Employee Number: \" + str(self.getEmployeeNumber())"
      ],
      "execution_count": null,
      "outputs": []
    },
    {
      "cell_type": "code",
      "metadata": {
        "id": "CH26-Xy1p4FL"
      },
      "source": [
        "class ProductionWorker(Employee):\n",
        "\n",
        "    def __init__(self, name, employee_number, shift_number, hourly_pay_rate):\n",
        "        Employee.__init__(self, name, employee_number)\n",
        "        self.shift_number = shift_number\n",
        "        self.hourly_pay_rate = hourly_pay_rate\n",
        "\n",
        "    def getShiftNumber(self):\n",
        "        return self.shift_number\n",
        "\n",
        "    def getHourlyPayRate(self):\n",
        "        return self.hourly_pay_rate\n",
        "\n",
        "    def toString(self):\n",
        "        return \"Worker Name: \" + self.getName() + \", Worker Number: \" + str(self.getEmployeeNumber()) + \\\n",
        "               \", Worker Shift Number: \" + str(self.getShiftNumber()) + \\\n",
        "               \", Worker Hourly Pay Rate: \" + str(self.getHourlyPayRate())"
      ],
      "execution_count": null,
      "outputs": []
    },
    {
      "cell_type": "code",
      "metadata": {
        "colab": {
          "base_uri": "https://localhost:8080/"
        },
        "id": "F3MSOyM2sIMf",
        "outputId": "68a60140-f550-4f26-ab90-ce6a2fe58fec"
      },
      "source": [
        "worker_name = input(\"Please Enter the worker name: \")\n",
        "worker_number = int(input(\"Please Enter the worker number: \"))\n",
        "worker_shift_number = int(input(\"Please Enter the worker shift number: \"))\n",
        "worker_hourly_pay_rate = float(input(\"Please Enter the worker hourly pay rate: \"))\n",
        "worker = ProductionWorker(worker_name, worker_number, worker_shift_number, worker_hourly_pay_rate)\n",
        "print(worker.toString())"
      ],
      "execution_count": null,
      "outputs": [
        {
          "output_type": "stream",
          "text": [
            "Please Enter the worker name: youssef\n",
            "Please Enter the worker number: 2\n",
            "Please Enter the worker shift number: 3\n",
            "Please Enter the worker hourly pay rate: 23\n",
            "Worker Name: youssef, Worker Number: 2, Worker Shift Number: 3, Worker Hourly Pay Rate: 23.0\n"
          ],
          "name": "stdout"
        }
      ]
    },
    {
      "cell_type": "markdown",
      "metadata": {
        "id": "-CZ4AxUwp568"
      },
      "source": [
        "### 6. ShiftSupervisor Class\n",
        "In a particular factory, a shift supervisor is a salaried employee who supervises a shift. In\n",
        "addition to a salary, the shift supervisor earns a yearly bonus when his or her shift meets\n",
        "production goals. Write a ShiftSupervisor class that is a subclass of the Employee class\n",
        "you created in Programming Exercise 5. The ShiftSupervisor class should keep a data\n",
        "attribute for the annual salary and a data attribute for the annual production bonus that\n",
        "a shift supervisor has earned. Demonstrate the class by writing a program that uses a\n",
        "ShiftSupervisor object."
      ]
    },
    {
      "cell_type": "code",
      "metadata": {
        "id": "TS1TyTHHp_jx",
        "colab": {
          "base_uri": "https://localhost:8080/"
        },
        "outputId": "c67cfb9c-1dff-4d81-a029-36cdb5753bab"
      },
      "source": [
        "class Employee:\n",
        "    def __init__(self, salary, bonus, name, idnum):\n",
        "        self.salary = salary\n",
        "        self.bonus = bonus\n",
        "        self.name = name\n",
        "        self.idnum = idnum\n",
        "\n",
        "class ShiftSupervisor(Employee):\n",
        "    def __init__(self, salary, bonus, name, idnum, shift_number):\n",
        "        super().__init__(salary, bonus, name, idnum)\n",
        "        self.shift_number = shift_number\n",
        "\n",
        "\n",
        "def main():\n",
        "    shift1 = ShiftSupervisor(28000.0, 2240.0, 'Ian McGregor', 'S10001', 1)\n",
        "    shift2 = ShiftSupervisor(29500, 2360.0, 'Brian Bory', 'S20202', 2)\n",
        "    shift3 = ShiftSupervisor(28750.0, 2300.0, 'Finn McCool', 'S30045', 3)\n",
        "\n",
        "    find_income(shift1)\n",
        "    find_income(shift2)\n",
        "    find_income(shift3)\n",
        "\n",
        "def find_income(employee):\n",
        "    production = input('Did shift {0} make quota this year? Type Y for yes '.format(employee.shift_number))\n",
        "    if production.lower() == 'y':\n",
        "        total_income = employee.salary + employee.bonus\n",
        "    else:\n",
        "        total_income = employee.salary\n",
        "    print(\"{0}'s Total income is: ${1}\".format(employee.name, total_income))\n",
        "\n",
        "main()"
      ],
      "execution_count": null,
      "outputs": [
        {
          "output_type": "stream",
          "text": [
            "Did shift 1 make quota this year? Type Y for yes y\n",
            "Ian McGregor's Total income is: $30240.0\n",
            "Did shift 2 make quota this year? Type Y for yes y\n",
            "Brian Bory's Total income is: $31860.0\n",
            "Did shift 3 make quota this year? Type Y for yes n\n",
            "Finn McCool's Total income is: $28750.0\n"
          ],
          "name": "stdout"
        }
      ]
    },
    {
      "cell_type": "code",
      "metadata": {
        "id": "mPkaSkTZqJ0Q"
      },
      "source": [
        ""
      ],
      "execution_count": null,
      "outputs": []
    },
    {
      "cell_type": "markdown",
      "metadata": {
        "id": "jSxraWwFqJ6b"
      },
      "source": [
        "### 7. Person and Customer Classes\n",
        "\n",
        "Write a class named Person with data attributes for a person’s name, address, and telephone number. Next, write a class named Customer that is a subclass of the Person class.\n",
        "The Customer class should have a data attribute for a customer number and a Boolean\n",
        "data attribute indicating whether the customer wishes to be on a mailing list. Demonstrate\n",
        "an instance of the Customer class in a simple program."
      ]
    },
    {
      "cell_type": "code",
      "metadata": {
        "id": "0E5MK4EqqP-R"
      },
      "source": [
        ""
      ],
      "execution_count": null,
      "outputs": []
    },
    {
      "cell_type": "code",
      "metadata": {
        "id": "EmYayPmsq0PI"
      },
      "source": [
        ""
      ],
      "execution_count": null,
      "outputs": []
    },
    {
      "cell_type": "markdown",
      "metadata": {
        "id": "nhecqSCIq2Ir"
      },
      "source": [
        "# Recursion"
      ]
    },
    {
      "cell_type": "markdown",
      "metadata": {
        "id": "0ksm_6zMq6ub"
      },
      "source": [
        "### 8. Recursive Multiplication\n",
        "\n",
        "Design a recursive function that accepts two arguments into the parameters x and y. The\n",
        "function should return the value of x times y. Remember, multiplication can be performed\n",
        "as repeated addition as follows: <br>\n",
        "**7 * 4 = 4 + 4 + 4 + 4 + 4 + 4 + 4** <br>\n",
        "(To keep the function simple, assume that x and y will always hold positive nonzero\n",
        "integers.)\n"
      ]
    },
    {
      "cell_type": "code",
      "metadata": {
        "id": "xf21Xs4Aq5LA",
        "colab": {
          "base_uri": "https://localhost:8080/"
        },
        "outputId": "5aea3e00-b48b-43bc-9bea-1d92edb516a5"
      },
      "source": [
        "def main():\n",
        "    x = int(input(\"enter x = \"))\n",
        "    y = int(input(\"enter y = \"))\n",
        "    print(mult(x, y))\n",
        "\n",
        "def mult(x, y):\n",
        "    if x == 0:\n",
        "        return 0\n",
        "    return y + mult(x - 1, y)\n",
        "main()"
      ],
      "execution_count": null,
      "outputs": [
        {
          "output_type": "stream",
          "text": [
            "enter x = 12\n",
            "enter y = 15\n",
            "180\n"
          ],
          "name": "stdout"
        }
      ]
    },
    {
      "cell_type": "code",
      "metadata": {
        "id": "XWfKid2TrdAO"
      },
      "source": [
        ""
      ],
      "execution_count": null,
      "outputs": []
    },
    {
      "cell_type": "markdown",
      "metadata": {
        "id": "ThDS1KNgrdGG"
      },
      "source": [
        "### 9. Recursive Lines\n",
        "Write a recursive function that accepts an integer argument, n. The function should display\n",
        "n lines of asterisks on the screen, with the first line showing 1 asterisk, the second line\n",
        "showing 2 asterisks, up to the nth line which shows n asterisks."
      ]
    },
    {
      "cell_type": "code",
      "metadata": {
        "id": "4MEQrx1Qr5cT",
        "colab": {
          "base_uri": "https://localhost:8080/"
        },
        "outputId": "8efcbe83-574f-44e6-b28c-56191a004dee"
      },
      "source": [
        "def main():\n",
        "  asterisks(6)\n",
        "\n",
        "def asterisks(n):\n",
        "  if n>1:\n",
        "    asterisks(n-1)\n",
        "    print('*' * n)\n",
        "\n",
        "  else:\n",
        "    print('*')\n",
        "\n",
        "main()"
      ],
      "execution_count": null,
      "outputs": [
        {
          "output_type": "stream",
          "text": [
            "*\n",
            "**\n",
            "***\n",
            "****\n",
            "*****\n",
            "******\n"
          ],
          "name": "stdout"
        }
      ]
    },
    {
      "cell_type": "code",
      "metadata": {
        "id": "INe35Ondr6-7"
      },
      "source": [
        ""
      ],
      "execution_count": null,
      "outputs": []
    },
    {
      "cell_type": "markdown",
      "metadata": {
        "id": "XL4Nsskyr7Mb"
      },
      "source": [
        "### 10. Recursive Power Method\n",
        "Design a function that uses recursion to raise a number to a power. The function should\n",
        "accept two arguments: the number to be raised and the exponent. Assume that the exponent is a nonnegative integer."
      ]
    },
    {
      "cell_type": "code",
      "metadata": {
        "id": "WyyXldEmsDX6",
        "colab": {
          "base_uri": "https://localhost:8080/"
        },
        "outputId": "2399344e-d425-43e5-9638-e37b4add9c91"
      },
      "source": [
        "def main():\n",
        "  print(raise_number(3,4))\n",
        "\n",
        "\n",
        "def raise_number(base,exp):\n",
        "  if exp == 0:\n",
        "    return 1\n",
        "\n",
        "  else:\n",
        "    return base * raise_number(base, exp - 1)\n",
        "\n",
        "main()"
      ],
      "execution_count": null,
      "outputs": [
        {
          "output_type": "stream",
          "text": [
            "81\n"
          ],
          "name": "stdout"
        }
      ]
    },
    {
      "cell_type": "code",
      "metadata": {
        "id": "NQhiUXmesEre"
      },
      "source": [
        ""
      ],
      "execution_count": null,
      "outputs": []
    }
  ]
}