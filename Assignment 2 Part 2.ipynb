{
  "nbformat": 4,
  "nbformat_minor": 0,
  "metadata": {
    "colab": {
      "name": "Mini_Projects_2/ part 2.ipynb",
      "provenance": [],
      "include_colab_link": true
    },
    "kernelspec": {
      "name": "python3",
      "display_name": "Python 3"
    }
  },
  "cells": [
    {
      "cell_type": "markdown",
      "metadata": {
        "id": "view-in-github",
        "colab_type": "text"
      },
      "source": [
        "<a href=\"https://colab.research.google.com/github/youssef1027/Machine-Learning-Training/blob/main/Assignment%202%20Part%202.ipynb\" target=\"_parent\"><img src=\"https://colab.research.google.com/assets/colab-badge.svg\" alt=\"Open In Colab\"/></a>"
      ]
    },
    {
      "cell_type": "markdown",
      "metadata": {
        "id": "c2sSEq3uSurn"
      },
      "source": [
        "# Files and Exceptions"
      ]
    },
    {
      "cell_type": "code",
      "metadata": {
        "id": "VppOUgyU_Auv",
        "outputId": "f5f59ca7-959d-496f-e202-8182efe69883",
        "colab": {
          "base_uri": "https://localhost:8080/"
        }
      },
      "source": [
        "from google.colab import drive\n",
        "drive.mount('/content/drive')"
      ],
      "execution_count": 9,
      "outputs": [
        {
          "output_type": "stream",
          "text": [
            "Drive already mounted at /content/drive; to attempt to forcibly remount, call drive.mount(\"/content/drive\", force_remount=True).\n"
          ],
          "name": "stdout"
        }
      ]
    },
    {
      "cell_type": "markdown",
      "metadata": {
        "id": "qw2XyRs-TWIF"
      },
      "source": [
        "**8. Sum of Numbers** <br>\n",
        "Assume that a file containing a series of integers is named numbers.txt and exists on the Drive. Write a program that reads all of the numbers stored in the file and calculates their total.\n",
        "\n",
        "Find file here: <br>\n",
        "https://drive.google.com/file/d/1GaOURA7jp0NLvfaOfl4cCClKK_pv3q0r/view?usp=sharing"
      ]
    },
    {
      "cell_type": "code",
      "metadata": {
        "id": "92EStR9KSu8N",
        "outputId": "8d28a327-1760-4e38-bdee-4b4e6f225aec",
        "colab": {
          "base_uri": "https://localhost:8080/"
        }
      },
      "source": [
        "def main():\n",
        "  num_file = open('/content/drive/MyDrive/numbers.txt', 'r')\n",
        "\n",
        "  total = 0.0\n",
        "  for line in num_file:\n",
        "    run_time = float(line)\n",
        "    print(run_time)\n",
        "    total += run_time\n",
        "  num_file.close()\n",
        "  print('total', total)\n",
        "main()"
      ],
      "execution_count": 22,
      "outputs": [
        {
          "output_type": "stream",
          "text": [
            "86850343.0\n",
            "88065952.0\n",
            "89381968.0\n",
            "89536251.0\n",
            "89714939.0\n",
            "89826424.0\n",
            "90124775.0\n",
            "90672109.0\n",
            "91408453.0\n",
            "92438737.0\n",
            "93361277.0\n",
            "93890243.0\n",
            "94372638.0\n",
            "94759578.0\n",
            "95079649.0\n",
            "95439651.0\n",
            "95611217.0\n",
            "95980818.0\n",
            "96336673.0\n",
            "96581524.0\n",
            "97041824.0\n",
            "97379048.0\n",
            "97672500.0\n",
            "98066518.0\n",
            "98479598.0\n",
            "98934553.0\n",
            "99246321.0\n",
            "99431136.0\n",
            "99835823.0\n",
            "100049946.0\n",
            "100234498.0\n",
            "100568960.0\n",
            "100806870.0\n",
            "101097750.0\n",
            "101820859.0\n",
            "102455417.0\n",
            "103013163.0\n",
            "103523365.0\n",
            "104177442.0\n",
            "104757015.0\n",
            "105145703.0\n",
            "105694237.0\n",
            "106140898.0\n",
            "107246430.0\n",
            "109272544.0\n",
            "111539027.0\n",
            "112522852.0\n",
            "113783213.0\n",
            "114620610.0\n",
            "116036567.0\n",
            "117421727.0\n",
            "119134533.0\n",
            "120378586.0\n",
            "121554027.0\n",
            "121817833.0\n",
            "122730767.0\n",
            "123673909.0\n",
            "124747226.0\n",
            "total 5931486514.0\n"
          ],
          "name": "stdout"
        }
      ]
    },
    {
      "cell_type": "code",
      "metadata": {
        "id": "B7GImG_lSu-u"
      },
      "source": [
        ""
      ],
      "execution_count": null,
      "outputs": []
    },
    {
      "cell_type": "markdown",
      "metadata": {
        "id": "gW0mWcdDVgK4"
      },
      "source": [
        "**9. Average of Numbers** <br>\n",
        "Assume that a file containing a series of integers is named numbers.txt and exists on the Drive. Write a program that calculates the average of all the numbers stored in\n",
        "the file"
      ]
    },
    {
      "cell_type": "code",
      "metadata": {
        "id": "3-DZx-vnSvCe",
        "outputId": "873519fd-5e79-4ce7-c241-99576364ce88",
        "colab": {
          "base_uri": "https://localhost:8080/"
        }
      },
      "source": [
        "def main():\n",
        "  num_file = open('/content/drive/MyDrive/numbers.txt', 'r')\n",
        "\n",
        "  total = 0.0\n",
        "  count = 0\n",
        "  for line in num_file:\n",
        "    run_time = float(line)\n",
        "    count += 1\n",
        "    total += run_time\n",
        "  num_file.close()\n",
        "  print('average', total/count)\n",
        "main()"
      ],
      "execution_count": 21,
      "outputs": [
        {
          "output_type": "stream",
          "text": [
            "average 102267008.86206897\n"
          ],
          "name": "stdout"
        }
      ]
    },
    {
      "cell_type": "markdown",
      "metadata": {
        "id": "vjchCYETVwPx"
      },
      "source": [
        "**10. Random Number File Writer**<br>\n",
        "Write a program that writes a series of random numbers to a file. Each random number should be in the range of 1 \n",
        "through 500. The application should let the user specify how\n",
        "many random numbers the file will hold.\n"
      ]
    },
    {
      "cell_type": "code",
      "metadata": {
        "id": "DCyba_BZVxLF",
        "outputId": "dd15121e-6cf7-4619-d932-fdfebdd80e1c",
        "colab": {
          "base_uri": "https://localhost:8080/"
        }
      },
      "source": [
        "import random\n",
        "def main():\n",
        "  num_days = int(input('How many numbers? '))\n",
        "  sales_file = open('sales.txt', 'w')\n",
        "  for count in range(1, num_days + 1):\n",
        "    sales = random.randint(1,500)\n",
        "    sales_file.write(str(sales) + '\\n')\n",
        "  sales_file.close()\n",
        "  print('Data written to sales.txt.')\n",
        "main()\n"
      ],
      "execution_count": 17,
      "outputs": [
        {
          "output_type": "stream",
          "text": [
            "How many numbers? 40\n",
            "Data written to sales.txt.\n"
          ],
          "name": "stdout"
        }
      ]
    },
    {
      "cell_type": "code",
      "metadata": {
        "id": "uZ7CQJM0VxN5"
      },
      "source": [
        ""
      ],
      "execution_count": null,
      "outputs": []
    },
    {
      "cell_type": "markdown",
      "metadata": {
        "id": "p75ZKqbXWMdY"
      },
      "source": [
        "**11.  Exception Handing** <br>\n",
        "Modify the program that you wrote for Exercise 9 so it handles the following exceptions: <br>\n",
        "* It should handle any IOError exceptions that are raised when the file is opened and data\n",
        "is read from it. <br>\n",
        "* It should handle any ValueError exceptions that are raised when the items that are read from the file are converted to a number."
      ]
    },
    {
      "cell_type": "code",
      "metadata": {
        "id": "22SOHQbrVxRE",
        "outputId": "c3fcdf01-85c7-493b-b750-12602cf9aef6",
        "colab": {
          "base_uri": "https://localhost:8080/"
        }
      },
      "source": [
        "def main():\n",
        "  total = 0.0\n",
        "\n",
        "  try:\n",
        "    num_file = open('/content/drive/MyDrive/numbers.txt', 'r')\n",
        "    total = 0.0\n",
        "    count = 0\n",
        "    for line in num_file:\n",
        "      run_time = float(line)\n",
        "      count += 1\n",
        "      total += run_time\n",
        "    num_file.close()\n",
        "    print('average', total/count)\n",
        "  except IOError:\n",
        "    print('An error occured trying to read the file.')\n",
        "\n",
        "  except ValueError:\n",
        "    print('Non-numeric data found in the file.')\n",
        "main()"
      ],
      "execution_count": 20,
      "outputs": [
        {
          "output_type": "stream",
          "text": [
            "average 102267008.86206897\n"
          ],
          "name": "stdout"
        }
      ]
    },
    {
      "cell_type": "code",
      "metadata": {
        "id": "3p0MENR_WrBV"
      },
      "source": [
        ""
      ],
      "execution_count": null,
      "outputs": []
    }
  ]
}